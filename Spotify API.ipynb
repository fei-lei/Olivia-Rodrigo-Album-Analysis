{
 "cells": [
  {
   "cell_type": "code",
   "execution_count": 5,
   "metadata": {},
   "outputs": [],
   "source": [
    "import numpy as np \n",
    "import pandas as pd \n",
    "import spotipy\n",
    "from spotipy.oauth2 import SpotifyClientCredentials\n",
    "import csv"
   ]
  },
  {
   "cell_type": "markdown",
   "metadata": {},
   "source": [
    "# Spotify API Credentials"
   ]
  },
  {
   "cell_type": "code",
   "execution_count": 18,
   "metadata": {},
   "outputs": [],
   "source": [
    "CLIENT_ID = \"7235323b3a9f485e93919778de3d9ef8\"\n",
    "CLIENT_SECRET = \"ec9a4483d04040e2b675d14496fdea65\""
   ]
  },
  {
   "cell_type": "code",
   "execution_count": 19,
   "metadata": {},
   "outputs": [],
   "source": [
    "#authenticate with Spotify\n",
    "sp = spotipy.Spotify(auth_manager=SpotifyClientCredentials(\n",
    "    client_id=CLIENT_ID, \n",
    "    client_secret=CLIENT_SECRET\n",
    "))"
   ]
  },
  {
   "cell_type": "code",
   "execution_count": 20,
   "metadata": {},
   "outputs": [],
   "source": [
    "#function to get artist information\n",
    "def get_artist_info(artist_name): \n",
    "    result = sp.search(q=artist_name, type=\"artist\", limit = 10)\n",
    "    if result[\"artists\"][\"items\"]: #to check the search and if you returns an artist\n",
    "        return result[\"artists\"][\"items\"][0][\"id\"]\n",
    "    return None"
   ]
  },
  {
   "cell_type": "code",
   "execution_count": 21,
   "metadata": {},
   "outputs": [],
   "source": [
    "def get_all_albums(artist_id):\n",
    "    albums = []\n",
    "    offset = 0  # Offset for pagination\n",
    "    while True:\n",
    "        # Fetch albums with pagination\n",
    "        album_data = sp.artist_albums(artist_id, album_type='album', limit=50, offset=offset)\n",
    "        # If albums are found, add them to the list\n",
    "        albums.extend(album_data[\"items\"])\n",
    "        # If there are more albums, move to the next page\n",
    "        if album_data[\"next\"]:\n",
    "            offset += 100  # Increment offset by 50\n",
    "        else:\n",
    "            break  # break the loop when no more\n",
    "    return albums"
   ]
  },
  {
   "cell_type": "code",
   "execution_count": 28,
   "metadata": {},
   "outputs": [],
   "source": [
    "#function to get album and tracks\n",
    "def album_track(artist_id):\n",
    "    albums = get_all_albums(artist_id)\n",
    "    album_info=[]\n",
    "\n",
    "    for album in albums:\n",
    "        album_name = album[\"name\"]\n",
    "        release_date = album[\"release_date\"]\n",
    "        album_id = album[\"id\"]\n",
    "\n",
    "        #track info (extract from api??)\n",
    "        tracks = sp.album_tracks(album_id)[\"items\"]\n",
    "\n",
    "        for track in tracks:\n",
    "            track_name =track['name']\n",
    "            track_number = track['track_number']\n",
    "            track_duration =track[\"duration_ms\"]/1000\n",
    "            spotify_url = track['external_urls'][\"spotify\"]\n",
    "            \n",
    "            album_info.append({\n",
    "                \"album_name\":album_name,\n",
    "                \"album_id\":album_id,\n",
    "                \"album_release_date\":release_date, \n",
    "                \"track_name\":track_name,\n",
    "                \"track_number\": track_number,\n",
    "                \"track_duration\": track_duration,\n",
    "                \"spotify_url\":spotify_url\n",
    "        }) #add all the track data to the album data\n",
    "        \n",
    "    return album_info"
   ]
  },
  {
   "cell_type": "code",
   "execution_count": null,
   "metadata": {},
   "outputs": [],
   "source": [
    "# import datetime\n",
    "\n",
    "# def get_tracks_popularity(artist_id):\n",
    "#     album_info = album_track(artist_id)\n",
    "    \n",
    "#     # Sum up popularity for tracks released in the past 2 years\n",
    "#     total_popularity = 0\n",
    "#     num_tracks = 0\n",
    "    \n",
    "#     for track in album_info:\n",
    "#         release_date = track[\"album_release_date\"]\n",
    "#         release_date = datetime.datetime.strptime(release_date, \"%Y-%m-%d\")\n",
    "        \n",
    "#         # Only consider tracks released in the last 2 years\n",
    "#         if release_date > datetime.datetime.now() - datetime.timedelta(days=730):  # 730 days = 2 years\n",
    "#             total_popularity += track[\"popularity\"]\n",
    "#             num_tracks += 1\n",
    "    \n",
    "#     avg_popularity = total_popularity / num_tracks if num_tracks > 0 else 0\n",
    "#     print(f\"Average popularity of tracks released in the last 2 years: {avg_popularity}\")\n",
    "#     return total_popularity  # You can return total or average popularity as a proxy for streams\n"
   ]
  },
  {
   "cell_type": "code",
   "execution_count": 29,
   "metadata": {},
   "outputs": [
    {
     "name": "stdout",
     "output_type": "stream",
     "text": [
      "Data saved to Olivia Rodrigo_albun_info.csv\n"
     ]
    }
   ],
   "source": [
    "artist_name = \"Olivia Rodrigo\" \n",
    "artist_id = get_artist_info(artist_name)\n",
    "\n",
    "if artist_id: \n",
    "    album_data= album_track(artist_id)\n",
    "    if album_data:\n",
    "        keys = album_data[0].keys()\n",
    "        filename = f\"{artist_name}_albun_info.csv\"\n",
    "        with open(filename, \"w\", newline=\"\",encoding=\"utf-8\") as file:\n",
    "            writer = csv.DictWriter(file,fieldnames=keys)\n",
    "            writer.writeheader()\n",
    "            writer.writerows(album_data)\n",
    "        print(f\"Data saved to {filename}\")\n",
    "    else:\n",
    "        print(f\"No album or track data found for {artist_name}.\")\n",
    "else:\n",
    "    print(f\"Artist {artist_name} not found.\")"
   ]
  },
  {
   "cell_type": "markdown",
   "metadata": {},
   "source": [
    "# get info on my listening history"
   ]
  },
  {
   "cell_type": "code",
   "execution_count": null,
   "metadata": {},
   "outputs": [
    {
     "data": {
      "text/plain": [
       "True"
      ]
     },
     "execution_count": 18,
     "metadata": {},
     "output_type": "execute_result"
    }
   ],
   "source": [
    "import webbrowser\n",
    "CLIENT_ID = \"7235323b3a9f485e93919778de3d9ef8\"\n",
    "CLIENT_SECRET = \"ec9a4483d04040e2b675d14496fdea65\"\n",
    "redirect_uri = \"http://localhost:1234/redirect\"\n",
    "scope = \"user-top-read\"\n",
    "\n",
    "auth_url = f\"https://accounts.spotify.com/authorize?client_id={CLIENT_ID}&response_type=code&redirect_uri={redirect_uri}&scope={scope}\"\n",
    "\n",
    "webbrowser.open(auth_url)"
   ]
  },
  {
   "cell_type": "markdown",
   "metadata": {},
   "source": []
  }
 ],
 "metadata": {
  "kernelspec": {
   "display_name": "spotify",
   "language": "python",
   "name": "python3"
  },
  "language_info": {
   "codemirror_mode": {
    "name": "ipython",
    "version": 3
   },
   "file_extension": ".py",
   "mimetype": "text/x-python",
   "name": "python",
   "nbconvert_exporter": "python",
   "pygments_lexer": "ipython3",
   "version": "3.11.7"
  }
 },
 "nbformat": 4,
 "nbformat_minor": 2
}
